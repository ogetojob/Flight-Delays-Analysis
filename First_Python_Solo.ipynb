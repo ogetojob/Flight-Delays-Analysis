{
  "nbformat": 4,
  "nbformat_minor": 0,
  "metadata": {
    "colab": {
      "provenance": [],
      "authorship_tag": "ABX9TyOKtGqYXHM4HqiSBPco31YB",
      "include_colab_link": true
    },
    "kernelspec": {
      "name": "python3",
      "display_name": "Python 3"
    },
    "language_info": {
      "name": "python"
    }
  },
  "cells": [
    {
      "cell_type": "markdown",
      "metadata": {
        "id": "view-in-github",
        "colab_type": "text"
      },
      "source": [
        "<a href=\"https://colab.research.google.com/github/ogetojob/Flight-Delays-Analysis/blob/main/First_Python_Solo.ipynb\" target=\"_parent\"><img src=\"https://colab.research.google.com/assets/colab-badge.svg\" alt=\"Open In Colab\"/></a>"
      ]
    },
    {
      "cell_type": "code",
      "execution_count": 12,
      "metadata": {
        "colab": {
          "base_uri": "https://localhost:8080/"
        },
        "id": "dWs6qo7AZIfH",
        "outputId": "46b73b3b-8e52-4c3b-ccfa-b12336f6a135"
      },
      "outputs": [
        {
          "output_type": "stream",
          "name": "stdout",
          "text": [
            "hello, world\n"
          ]
        }
      ],
      "source": [
        "print(\"hello, world\")"
      ]
    },
    {
      "cell_type": "code",
      "source": [
        "x=20\n",
        "y=400\n",
        "\n",
        "print(y/20)"
      ],
      "metadata": {
        "colab": {
          "base_uri": "https://localhost:8080/"
        },
        "id": "ujxj5OVvZTz0",
        "outputId": "2c44dae7-832f-4bf5-9af8-992dee57aadb"
      },
      "execution_count": 13,
      "outputs": [
        {
          "output_type": "stream",
          "name": "stdout",
          "text": [
            "20.0\n"
          ]
        }
      ]
    },
    {
      "cell_type": "code",
      "source": [
        "x=\"Declan\"\n",
        "y=700\n",
        "t=\"shoes\"\n",
        "z=\"has\"\n",
        "\n",
        "print(x, z, y, t)"
      ],
      "metadata": {
        "colab": {
          "base_uri": "https://localhost:8080/"
        },
        "id": "dEIsG6KoZgAD",
        "outputId": "52a87eae-4198-479e-ad77-9257e04b8b5b"
      },
      "execution_count": 14,
      "outputs": [
        {
          "output_type": "stream",
          "name": "stdout",
          "text": [
            "Declan has 700 shoes\n"
          ]
        }
      ]
    },
    {
      "cell_type": "code",
      "source": [
        "def seconds_in_a_week():\n",
        "  \"\"\"This function calculates seconds in a week\"\"\"\n",
        "  return 7 *24*60*60\n",
        "\n",
        "print(seconds_in_a_week())"
      ],
      "metadata": {
        "colab": {
          "base_uri": "https://localhost:8080/"
        },
        "id": "nA8jTWXCaD9T",
        "outputId": "eb0b9479-b48f-47a3-b442-24143143d488"
      },
      "execution_count": 15,
      "outputs": [
        {
          "output_type": "stream",
          "name": "stdout",
          "text": [
            "604800\n"
          ]
        }
      ]
    },
    {
      "cell_type": "code",
      "source": [
        "total_seconds_available_per_person = seconds_in_a_week() * 500\n",
        "print(total_seconds_available_per_person)"
      ],
      "metadata": {
        "colab": {
          "base_uri": "https://localhost:8080/"
        },
        "id": "5tH-UfmHak8R",
        "outputId": "d00ee74b-6e7e-4bdf-87dd-36341cf2dd50"
      },
      "execution_count": 16,
      "outputs": [
        {
          "output_type": "stream",
          "name": "stdout",
          "text": [
            "302400000\n"
          ]
        }
      ]
    },
    {
      "cell_type": "code",
      "metadata": {
        "colab": {
          "base_uri": "https://localhost:8080/"
        },
        "id": "d582eb48",
        "outputId": "6247257a-76c0-4146-ab5f-c052dd5182a0"
      },
      "source": [
        "def greet(name):\n",
        "  \"\"\"This function greets the person passed in as a parameter.\"\"\"\n",
        "  print(f\"Hello, {name}!\")\n",
        "\n",
        "# Now, let's call the function\n",
        "greet(\"Alice\")\n",
        "greet(\"Bob\")"
      ],
      "execution_count": 18,
      "outputs": [
        {
          "output_type": "stream",
          "name": "stdout",
          "text": [
            "Hello, Alice!\n",
            "Hello, Bob!\n"
          ]
        }
      ]
    },
    {
      "cell_type": "code",
      "source": [
        "x=10\n",
        "y=40\n",
        "z=70\n",
        "\n",
        "print(x+z)\n",
        "\n",
        "x=5\n",
        "z=35\n",
        "print(x+z)\n",
        "\n",
        "print(x+y+z)"
      ],
      "metadata": {
        "colab": {
          "base_uri": "https://localhost:8080/"
        },
        "id": "s9Hub2KTcg2k",
        "outputId": "04214b73-8891-49a9-89ed-218558cf0347"
      },
      "execution_count": 21,
      "outputs": [
        {
          "output_type": "stream",
          "name": "stdout",
          "text": [
            "80\n",
            "40\n",
            "80\n"
          ]
        }
      ]
    },
    {
      "cell_type": "code",
      "source": [],
      "metadata": {
        "id": "OIEYe4VAdHYc"
      },
      "execution_count": null,
      "outputs": []
    }
  ]
}